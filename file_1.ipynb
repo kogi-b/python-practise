{
  "nbformat": 4,
  "nbformat_minor": 0,
  "metadata": {
    "colab": {
      "provenance": [],
      "authorship_tag": "ABX9TyPOkKWE1DN/lW1c3BL6Vsuf"
    },
    "kernelspec": {
      "name": "python3",
      "display_name": "Python 3"
    },
    "language_info": {
      "name": "python"
    }
  },
  "cells": [
    {
      "cell_type": "code",
      "execution_count": 1,
      "metadata": {
        "colab": {
          "base_uri": "https://localhost:8080/"
        },
        "id": "tD4W51zF3aAu",
        "outputId": "5fde9c17-bf3a-44fd-b549-1128f6508f76"
      },
      "outputs": [
        {
          "output_type": "execute_result",
          "data": {
            "text/plain": [
              "True"
            ]
          },
          "metadata": {},
          "execution_count": 1
        }
      ],
      "source": [
        "a=256\n",
        "b=256\n",
        "a is b"
      ]
    },
    {
      "cell_type": "code",
      "source": [
        "a=257\n",
        "b=257\n",
        "a is b"
      ],
      "metadata": {
        "colab": {
          "base_uri": "https://localhost:8080/"
        },
        "id": "hdCp72BY3jit",
        "outputId": "57855039-bbb2-42a0-8743-5d54d90a8c56"
      },
      "execution_count": 2,
      "outputs": [
        {
          "output_type": "execute_result",
          "data": {
            "text/plain": [
              "False"
            ]
          },
          "metadata": {},
          "execution_count": 2
        }
      ]
    },
    {
      "cell_type": "code",
      "source": [
        "# binary range 0-256 seems"
      ],
      "metadata": {
        "id": "pPvSXgAz3rVt"
      },
      "execution_count": null,
      "outputs": []
    }
  ]
}