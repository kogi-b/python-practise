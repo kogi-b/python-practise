{
  "nbformat": 4,
  "nbformat_minor": 0,
  "metadata": {
    "colab": {
      "provenance": [],
      "authorship_tag": "ABX9TyOHnB3BIS/IlcFqce00hMuE"
    },
    "kernelspec": {
      "name": "python3",
      "display_name": "Python 3"
    },
    "language_info": {
      "name": "python"
    }
  },
  "cells": [
    {
      "cell_type": "code",
      "execution_count": 1,
      "metadata": {
        "colab": {
          "base_uri": "https://localhost:8080/"
        },
        "id": "J90QlTLGgl6g",
        "outputId": "3c1761b0-2802-483c-b140-5416fed7bbc0"
      },
      "outputs": [
        {
          "output_type": "stream",
          "name": "stdout",
          "text": [
            "My name is Brian Kogi\n"
          ]
        }
      ],
      "source": [
        "first_name = 'Brian'\n",
        "last_name = 'Kogi'\n",
        "\n",
        "sentence = 'My name is {} {}'.format(first_name, last_name)\n",
        "print(sentence)"
      ]
    },
    {
      "cell_type": "code",
      "source": [
        "sentence = f'My name is {first_name.upper()} {last_name.upper()}'\n",
        "print(sentence)"
      ],
      "metadata": {
        "colab": {
          "base_uri": "https://localhost:8080/"
        },
        "id": "rU0jDQuYg8bi",
        "outputId": "72eb8db8-38ac-49c0-90fd-9a92c04fe573"
      },
      "execution_count": 4,
      "outputs": [
        {
          "output_type": "stream",
          "name": "stdout",
          "text": [
            "My name is BRIAN KOGI\n"
          ]
        }
      ]
    },
    {
      "cell_type": "code",
      "source": [
        "person = {'name': 'Jenn', 'age': 23}\n",
        "sentence = 'My name is {} and I am {} years old.'.format(person['name'], person['age'])\n",
        "print(sentence)"
      ],
      "metadata": {
        "colab": {
          "base_uri": "https://localhost:8080/"
        },
        "id": "Bs1gxSC1hsSa",
        "outputId": "f7219e09-1080-4074-b19d-1194bbca1c97"
      },
      "execution_count": 5,
      "outputs": [
        {
          "output_type": "stream",
          "name": "stdout",
          "text": [
            "My name is Jenn and I am 23 years old.\n"
          ]
        }
      ]
    },
    {
      "cell_type": "code",
      "source": [
        "sentence = f'MY name is {person[\"name\"]} and I am {person[\"age\"]} years old'\n",
        "print(sentence)"
      ],
      "metadata": {
        "colab": {
          "base_uri": "https://localhost:8080/"
        },
        "id": "lMuUD57YhsZL",
        "outputId": "6e21d5b3-3801-45d9-a835-06329f520e7b"
      },
      "execution_count": 7,
      "outputs": [
        {
          "output_type": "stream",
          "name": "stdout",
          "text": [
            "MY name is Jenn and I am 23 years old\n"
          ]
        }
      ]
    },
    {
      "cell_type": "code",
      "source": [
        "calculation = f'4 times 11 is equal to {4 * 11}'\n",
        "print(calculation)"
      ],
      "metadata": {
        "colab": {
          "base_uri": "https://localhost:8080/"
        },
        "id": "BwkULpdkhsc_",
        "outputId": "611fc15c-7e3f-4ffd-b358-48f71e24cf47"
      },
      "execution_count": 8,
      "outputs": [
        {
          "output_type": "stream",
          "name": "stdout",
          "text": [
            "4 times 11 is equal to 44\n"
          ]
        }
      ]
    },
    {
      "cell_type": "code",
      "source": [
        "for n in range(1, 11):\n",
        "  sentence = f'The value is {n}'\n",
        "  print(sentence)"
      ],
      "metadata": {
        "colab": {
          "base_uri": "https://localhost:8080/"
        },
        "id": "Oxb-XaFeja-3",
        "outputId": "0f480c45-9693-423d-9b46-9697fa68461b"
      },
      "execution_count": 9,
      "outputs": [
        {
          "output_type": "stream",
          "name": "stdout",
          "text": [
            "The value is 1\n",
            "The value is 2\n",
            "The value is 3\n",
            "The value is 4\n",
            "The value is 5\n",
            "The value is 6\n",
            "The value is 7\n",
            "The value is 8\n",
            "The value is 9\n",
            "The value is 10\n"
          ]
        }
      ]
    },
    {
      "cell_type": "code",
      "source": [
        "for n in range(1, 11):\n",
        "  sentence = f'The value is {n:02}'\n",
        "  print(sentence)"
      ],
      "metadata": {
        "colab": {
          "base_uri": "https://localhost:8080/"
        },
        "id": "T33L9jijjoBi",
        "outputId": "89d09fdb-326e-42cf-926d-bdec89500ae6"
      },
      "execution_count": 10,
      "outputs": [
        {
          "output_type": "stream",
          "name": "stdout",
          "text": [
            "The value is 01\n",
            "The value is 02\n",
            "The value is 03\n",
            "The value is 04\n",
            "The value is 05\n",
            "The value is 06\n",
            "The value is 07\n",
            "The value is 08\n",
            "The value is 09\n",
            "The value is 10\n"
          ]
        }
      ]
    },
    {
      "cell_type": "code",
      "source": [
        "pi = 3.14159265\n",
        "\n",
        "sentence = f'Pi is equal to {pi}'\n",
        "print(sentence)"
      ],
      "metadata": {
        "colab": {
          "base_uri": "https://localhost:8080/"
        },
        "id": "iBClwJ3-j19F",
        "outputId": "1cdb478c-3fdb-4506-d667-68fb1709038d"
      },
      "execution_count": 11,
      "outputs": [
        {
          "output_type": "stream",
          "name": "stdout",
          "text": [
            "Pi is equal to 3.14159265\n"
          ]
        }
      ]
    },
    {
      "cell_type": "code",
      "source": [
        "pi = 3.14159265\n",
        "\n",
        "sentence = f'Pi is equal to {pi:.4f}'\n",
        "print(sentence)"
      ],
      "metadata": {
        "colab": {
          "base_uri": "https://localhost:8080/"
        },
        "id": "k66ZB_oZkISS",
        "outputId": "759034d1-57fb-4b08-9803-8dcfd8912611"
      },
      "execution_count": 12,
      "outputs": [
        {
          "output_type": "stream",
          "name": "stdout",
          "text": [
            "Pi is equal to 3.1416\n"
          ]
        }
      ]
    },
    {
      "cell_type": "code",
      "source": [
        "from datetime import datetime\n",
        "\n",
        "birthday = datetime(1990, 1, 1)\n",
        "\n",
        "sentence = f'Jenn has a birthday on {birthday}'\n",
        "print(sentence)\n",
        "sentence = f'Jenn has a birthday on {birthday:%B %d, %Y}'\n",
        "print(sentence)"
      ],
      "metadata": {
        "colab": {
          "base_uri": "https://localhost:8080/"
        },
        "id": "v889arU4kU-C",
        "outputId": "2f8cc999-7692-443d-a4a7-09b88f2db549"
      },
      "execution_count": 14,
      "outputs": [
        {
          "output_type": "stream",
          "name": "stdout",
          "text": [
            "Jenn has a birthday on 1990-01-01 00:00:00\n",
            "Jenn has a birthday on January 01, 1990\n"
          ]
        }
      ]
    },
    {
      "cell_type": "code",
      "source": [],
      "metadata": {
        "id": "Z-3fVaFykwWi"
      },
      "execution_count": null,
      "outputs": []
    }
  ]
}