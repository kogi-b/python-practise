{
  "nbformat": 4,
  "nbformat_minor": 0,
  "metadata": {
    "colab": {
      "provenance": [],
      "authorship_tag": "ABX9TyN4tcqFuCTihMsU8H59N4re"
    },
    "kernelspec": {
      "name": "python3",
      "display_name": "Python 3"
    },
    "language_info": {
      "name": "python"
    }
  },
  "cells": [
    {
      "cell_type": "markdown",
      "source": [
        "### Printing colored output in python"
      ],
      "metadata": {
        "id": "9-et8-0gEDpt"
      }
    },
    {
      "cell_type": "code",
      "execution_count": 1,
      "metadata": {
        "colab": {
          "base_uri": "https://localhost:8080/"
        },
        "id": "Fi3WmtYSCXSU",
        "outputId": "b86ae664-9444-4dce-92fc-8b6a139c6a99"
      },
      "outputs": [
        {
          "output_type": "stream",
          "name": "stdout",
          "text": [
            "Looking in indexes: https://pypi.org/simple, https://us-python.pkg.dev/colab-wheels/public/simple/\n",
            "Collecting colorama\n",
            "  Downloading colorama-0.4.5-py2.py3-none-any.whl (16 kB)\n",
            "Installing collected packages: colorama\n",
            "Successfully installed colorama-0.4.5\n"
          ]
        }
      ],
      "source": [
        "!pip install colorama"
      ]
    },
    {
      "cell_type": "code",
      "source": [
        "from colorama import Fore\n",
        "print(Fore.BLUE + \"Hello there\")\n",
        "print(Fore.RED + \"You can change the color of your output in python!\")\n",
        "print(Fore.GREEN + \"Just install colorama and user Fore!\")"
      ],
      "metadata": {
        "colab": {
          "base_uri": "https://localhost:8080/"
        },
        "id": "41avcmeKEAjB",
        "outputId": "74ae0156-1d65-403d-cb67-18d6b86cc79c"
      },
      "execution_count": 2,
      "outputs": [
        {
          "output_type": "stream",
          "name": "stdout",
          "text": [
            "\u001b[34mHello there\n",
            "\u001b[31mYou can change the color of your output in python!\n",
            "\u001b[32mJust install colorama and user Fore!\n"
          ]
        }
      ]
    }
  ]
}